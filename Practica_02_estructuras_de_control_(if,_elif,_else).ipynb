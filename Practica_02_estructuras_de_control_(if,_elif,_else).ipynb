{
  "nbformat": 4,
  "nbformat_minor": 0,
  "metadata": {
    "colab": {
      "provenance": [],
      "authorship_tag": "ABX9TyN+RS3S3RjoJaA3qpV3P/xj",
      "include_colab_link": true
    },
    "kernelspec": {
      "name": "python3",
      "display_name": "Python 3"
    },
    "language_info": {
      "name": "python"
    }
  },
  "cells": [
    {
      "cell_type": "markdown",
      "metadata": {
        "id": "view-in-github",
        "colab_type": "text"
      },
      "source": [
        "<a href=\"https://colab.research.google.com/github/laonrd0/acp_2023-2/blob/main/Practica_02_estructuras_de_control_(if%2C_elif%2C_else).ipynb\" target=\"_parent\"><img src=\"https://colab.research.google.com/assets/colab-badge.svg\" alt=\"Open In Colab\"/></a>"
      ]
    },
    {
      "cell_type": "markdown",
      "source": [
        "1. Realiza un programa que pida dos números enteros y que escriba si el mayor es múltiplo del menor."
      ],
      "metadata": {
        "id": "-4JHFyER5Cmu"
      }
    },
    {
      "cell_type": "code",
      "execution_count": null,
      "metadata": {
        "id": "1BrjunvB3Gwo"
      },
      "outputs": [],
      "source": []
    },
    {
      "cell_type": "markdown",
      "source": [
        "2. Realiza un programa que solicite al usuario una temperatura y la unidad de que se trata, por ejemplo C para grados Celsius y F para grados Fahrenheit. El programa deberá convertir los grados de una unidad a otra.\n",
        "\n",
        "```\n",
        "Ejemplo: CONVERTIDOR DE TEMPERATURAS\n",
        "\n",
        "Ingresa el valor de temperatura: 25 \n",
        "De que unidad de temperatura se trata F/C? C\n",
        "\n",
        "El equivalente de 25°C es 77°F\n",
        "```"
      ],
      "metadata": {
        "id": "B-atLpqH5FQl"
      }
    },
    {
      "cell_type": "code",
      "source": [],
      "metadata": {
        "id": "JAidPpsE5Vkl"
      },
      "execution_count": null,
      "outputs": []
    },
    {
      "cell_type": "markdown",
      "source": [
        "3. Escribe un programa que reciba un año y determine si es un año bisiesto. Un año bisiesto esta determinado por las siguientes reglas:\n",
        "\n",
        "  * Si es divisible entre 400, pero no entre 100.\n",
        "  * Los años divisibles entre 4, excepto si son también divisibles entre 100.\n"
      ],
      "metadata": {
        "id": "ss1fOFz05WGs"
      }
    },
    {
      "cell_type": "markdown",
      "source": [],
      "metadata": {
        "id": "-yr7lz_d60P8"
      }
    },
    {
      "cell_type": "code",
      "source": [],
      "metadata": {
        "id": "D5XNtcCs5ku9"
      },
      "execution_count": null,
      "outputs": []
    },
    {
      "cell_type": "markdown",
      "source": [
        "4. Realiza un programa que realice el cálculo de áreas de diferente figuras. Se deberá mostrar al usuario un menú. \n",
        "* El usuario elegirá el número de la opción correspondiente al cálculo que desea hacer. \n",
        "* El programa solicitará al usuario los datos necesarios para realizar la operación elegida.\n",
        "\n",
        "```\n",
        "  Ejemplo: CALCULADORA DE ÁREAS\n",
        "  1. Área de un círculo.\n",
        "  2. Área de un triángulo.\n",
        "  3. Área de un cuadrilatero (cuadrado/rectangulo)\n",
        "  4. Área de un trapecio.\n",
        "  \n",
        "  Elige una opción para calcular: 2\n",
        "  Ingresa el valor de la base: 2.5\n",
        "  Ingresa el valor de la altura: 3\n",
        "  El área del triángulo es 3.75 unidades cuadradas.\n",
        "```"
      ],
      "metadata": {
        "id": "gEfm367R5lGd"
      }
    },
    {
      "cell_type": "code",
      "source": [],
      "metadata": {
        "id": "qEOJLMhq62Ck"
      },
      "execution_count": null,
      "outputs": []
    },
    {
      "cell_type": "markdown",
      "source": [
        "5. Escribe un programa que dada la edad de un perro(edad en años humano), la transforme al equivalente en años perro, tomando en cuenta lo siguiente: \n",
        "\n",
        "* Los primeros dos años equivalen a 10.5 años perro\n",
        "* Después cada año humano equivale a 4 años perro. \n",
        "* Tomar en cuenta que si la edad ingresada es menor a 2 años se deberá hacer una proporción entre la edad del perro en años humano."
      ],
      "metadata": {
        "id": "Cco4WKbp62ll"
      }
    },
    {
      "cell_type": "code",
      "source": [],
      "metadata": {
        "id": "oYzbmS4U7snM"
      },
      "execution_count": null,
      "outputs": []
    },
    {
      "cell_type": "markdown",
      "source": [
        "6. Escribe un programa que resuelva una ecuación cuadrada univariable de la forma $f(x) = ax^2 + bx + c$ donde $a$ , $b$ y  $c$ son constantes que se reciben del usuario. \n",
        "\n",
        " Una función cuadrática univariable puede tener 0, 1 o 2 raíces reales dependiendo de la discriminante. Las raíces se obtienen mediante la siguiente fórmula:\n",
        " $$\n",
        " r = \\frac {-b \\pm \\sqrt{b^2-4ac}}{2a}\n",
        " $$\n",
        "\n",
        " Se deben tomar en cuenta los siguiente:\n",
        "  * Si la determinante es negativa, no hay raices reales.\n",
        "  * Si la discriminante no es negativa, calcular su raiz.\n",
        "  * Calcula las soluciones"
      ],
      "metadata": {
        "id": "syqAjoXi7tJr"
      }
    },
    {
      "cell_type": "code",
      "source": [],
      "metadata": {
        "id": "rz0lSeAr9Akj"
      },
      "execution_count": null,
      "outputs": []
    },
    {
      "cell_type": "markdown",
      "source": [
        "7. Un plan de telefonía celular incluye 50 minutos de tiempo aire y 50 mensajes de texto por una renta mensual de $299 al mes IVA incluido.  Cada minuto adicional tiene un costo de 1.49, mientras que cada mensaje de texto adicional tiene un costo de 0.89, ambos costos sin IVA.\n",
        "\n",
        "  Realiza un programa que calcule los gastos mensuales de un usuario: \n",
        "\n",
        " * Deberás pedir la cantidad de mensajes y minutos de tiempo aire consumidos en el mes. \n",
        "\n",
        " * El programa determinará si el usuario recibirá cargos extras en su factura. \n",
        "\n",
        " * Deberás mostrar la información separado el costo original del plan y los cargos extra en caso de haberlos y hacer el desglose. \n",
        "\n",
        " * También debe mostrarse el un desglose de IVA.\n",
        " * Total de pago de la factura."
      ],
      "metadata": {
        "id": "9sBr5GFW9BAj"
      }
    },
    {
      "cell_type": "code",
      "source": [],
      "metadata": {
        "id": "kgbDgr4N9siD"
      },
      "execution_count": null,
      "outputs": []
    }
  ]
}