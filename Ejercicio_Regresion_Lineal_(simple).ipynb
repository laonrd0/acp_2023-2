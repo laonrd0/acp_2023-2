{
  "nbformat": 4,
  "nbformat_minor": 0,
  "metadata": {
    "colab": {
      "provenance": [],
      "authorship_tag": "ABX9TyM2Lk+wJy5uhObjywk9dwrS",
      "include_colab_link": true
    },
    "kernelspec": {
      "name": "python3",
      "display_name": "Python 3"
    },
    "language_info": {
      "name": "python"
    }
  },
  "cells": [
    {
      "cell_type": "markdown",
      "metadata": {
        "id": "view-in-github",
        "colab_type": "text"
      },
      "source": [
        "<a href=\"https://colab.research.google.com/github/laonrd0/acp_2023-2/blob/main/Ejercicio_Regresion_Lineal_(simple).ipynb\" target=\"_parent\"><img src=\"https://colab.research.google.com/assets/colab-badge.svg\" alt=\"Open In Colab\"/></a>"
      ]
    },
    {
      "cell_type": "markdown",
      "source": [
        "# Regresión lineal con Python\n",
        "\n",
        "La regresión lineal es un método estadístico que trata de modelar la relación entre una variable continua y una o más variables independientes mediante el ajuste de una ecuación lineal. Se llama regresión lineal simple cuando solo hay una variable independiente y regresión lineal múltiple cuando hay más de una. Dependiendo del contexto, a la variable modelada se le conoce como variable dependiente o variable respuesta, y a las variables independientes como regresores, predictores o _features_.\n",
        "\n",
        "Para este ejemplo usaremos un conjunto de datos muy simple para explicar los conceptos básicos del procedimiento para la aplicación de la regresión líneal en Python\n",
        "\n",
        "1. Descripción del ejercicio:\n",
        "Se tienen las calificaciones obtenidas por alumnos que salieron de preparatoria y las calificaciones obtenidas por estos mismos alumnos en matemáticas y los puntajes que obtuvieron para ingreso a la universidad. \n",
        "\n",
        "  * Fuente de datos: [data.school.csv](https://drive.google.com/file/d/1e66dRBG2FZIVbvXlx9kNM6LFSd1kpm0D/view?usp=share_link)\n",
        "\n",
        "  \n",
        "  \n",
        "#### Análisis visual\n",
        "\n",
        "  Es importante saber que el algoritmo de regresión lineal se basa altamente en correlaciones por lo que es recomendable que empecemos viendo un gráfico de correlaciones de nuestros datos.\n"
      ],
      "metadata": {
        "id": "jmzo9G21qFd2"
      }
    },
    {
      "cell_type": "markdown",
      "source": [
        "#### Análisis numérico\n",
        "Al realizar un análisis visual de un conjunto de datos, se obtienen ideas generales de las relaciones entre las variables y patrones. Sin embargo, es importante complementarlo con un análisis numérico para confirmar que nuestras suposiciones para confirmar sean correctas.\n",
        "\n",
        "El análisis numérico puede incluir el cálculo de medidas estadísticas como la **media**, la **mediana** y la **desviación estándar**, **covarianza**, así como la realización de pruebas de hipótesis y la evaluación de correlaciones entre variables.\n",
        "\n",
        "Si fuera el caso, donde se observa una relación aparentemente lineal, sería necesario calcular la correlación numérica para determinar si es significativa. Asimismo, en cuanto a los valores atípicos, es necesario analizar numéricamente su impacto en las medidas estadísticas y determinar si deben ser excluidos o si representan información importante."
      ],
      "metadata": {
        "id": "p-Wl5ZVk2oIm"
      }
    },
    {
      "cell_type": "markdown",
      "source": [
        "Para determinar el grado de correlación, se utiliza la fórmula de coeficiente de correlación de pearson:\n",
        "<br><br>\n",
        "$R = \\frac{S_{xy}}{S_xS_y}$\n",
        "\n",
        "El coefieciente de correlación de pearson se obtiene diviviendo la covariancia de $x$, $y$ entre el producto de la desviación estándar de $x$ por la desviación estándar de $y$.\n",
        "\n",
        "<br>\n",
        "Por lo que para obtener el coefiente $R$ obtengamos uno a uno los datos que requerimos previamente:\n",
        "\n",
        "  1. Calcular las medias de $x$ y la media de  $y$\n",
        "\n",
        "      $\\bar{x} = \\frac{\\sum_{i=1}^{n} x_i}{n}$"
      ],
      "metadata": {
        "id": "7qk_OMYu9OJF"
      }
    },
    {
      "cell_type": "markdown",
      "source": [
        "  2. Calcular la desviación estandar para $x$ y $y$.\n",
        "\n",
        "  $S = \\sqrt{\\frac{\\sum_{i=1}^n(x_i-\\bar{x})^2}{n}}$"
      ],
      "metadata": {
        "id": "aSRcqxG55A7t"
      }
    },
    {
      "cell_type": "markdown",
      "source": [
        "  3. Calcular la covarianza de $x$, $y$.\n",
        "\n",
        "  $S_{xy} = \\frac{\\sum_{i=1}^{n}(x_i - \\bar{x})(y_i-\\bar{y})}{n}$"
      ],
      "metadata": {
        "id": "-HoEwRAG8LuE"
      }
    },
    {
      "cell_type": "markdown",
      "source": [
        "Una vez ralizadas las funciones y calculos previos, realizar el calculo de $R$ y verificar que:\n",
        "\n",
        "**Entre mas cercano sea el coeficiente de correlación al 1, mayor sera la relación entre los datos al momento de su ariación.**\n",
        "\n",
        "* correlación despreciable: R < |0.1|\n",
        "* correlación baja: |0.1| < R <= |0.3|\n",
        "* correlación mediana : |0.3| < R <= |0.5|\n",
        "* correlación fuerte o alta: R > |0.5|\n",
        "\n",
        "_Con ayuda de los gráficos de correlación y el cálculo del coeficiente, determinar que caso o casos son relevantes para análisis_"
      ],
      "metadata": {
        "id": "mysCZtvm9qjE"
      }
    },
    {
      "cell_type": "markdown",
      "source": [
        "#### Dibujar recta con el ajuste de corelación\n",
        "\n",
        "Para esto es necesario encontrar la aproximación de $\\hat{y}$ de tal forma que con los valores de $x$ y estos nuevos valores de $\\hat{y}$, formarán la línea recta ajustada para que nuestro grafico de dispersión se ajuste con el menor error.\n",
        "\n",
        "Seguir las siguiente fórmula de una recta: \n",
        "  <br><br>\n",
        "  $\\hat{y} = a + bx$\n",
        "<br><br>\n",
        "donde:\n",
        "\n",
        "  $b = \\frac{S_{xy}}{S_x^2}$\n",
        "\n",
        "  $a = \\bar{y} - b\\bar{x}$"
      ],
      "metadata": {
        "id": "ooVss-N6-1pL"
      }
    },
    {
      "cell_type": "markdown",
      "source": [],
      "metadata": {
        "id": "eh6f0VD65L79"
      }
    }
  ]
}