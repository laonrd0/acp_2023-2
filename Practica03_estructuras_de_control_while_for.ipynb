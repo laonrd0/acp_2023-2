{
  "nbformat": 4,
  "nbformat_minor": 0,
  "metadata": {
    "colab": {
      "provenance": [],
      "authorship_tag": "ABX9TyMLdVhVgaXMij7BE4N8xNH6",
      "include_colab_link": true
    },
    "kernelspec": {
      "name": "python3",
      "display_name": "Python 3"
    },
    "language_info": {
      "name": "python"
    }
  },
  "cells": [
    {
      "cell_type": "markdown",
      "metadata": {
        "id": "view-in-github",
        "colab_type": "text"
      },
      "source": [
        "<a href=\"https://colab.research.google.com/github/laonrd0/acp_2023-2/blob/main/Practica03_estructuras_de_control_while_for.ipynb\" target=\"_parent\"><img src=\"https://colab.research.google.com/assets/colab-badge.svg\" alt=\"Open In Colab\"/></a>"
      ]
    },
    {
      "cell_type": "markdown",
      "source": [
        "1. Escriba un programa que pida números mientras no se escriba un número negativo o cero. El programa terminará escribiendo la suma de los números introducidos."
      ],
      "metadata": {
        "id": "r_tH52ADPAVW"
      }
    },
    {
      "cell_type": "markdown",
      "source": [
        "2. Escribir un programa que muestre el eco de todo lo que el usuario introduzca hasta que el usuario escriba “salir” el programa terminará.\n",
        "\n"
      ],
      "metadata": {
        "id": "bEWx9BqMSP61"
      }
    },
    {
      "cell_type": "markdown",
      "source": [
        "3. Escribe un programa que calcule la Hipotenusa. Para ello, pide al usuario que te de el valor de los catetos. Comprueba que los catetos son mayores a 0. Hasta que estos datos sean validados no calcular."
      ],
      "metadata": {
        "id": "RUZ-fx7ySn3A"
      }
    },
    {
      "cell_type": "markdown",
      "source": [
        "4. Escribir un programa que genere una tabla de conversión de temperaturas de °C a °F. La tabla incluirá temperaturas de -38°C a 48°C."
      ],
      "metadata": {
        "id": "3AFzqcv9NUI7"
      }
    },
    {
      "cell_type": "markdown",
      "source": [
        "5. Escribir un programa que imprima los números pares desde el 1 hasta el 100."
      ],
      "metadata": {
        "id": "V5aJnOgLRi6j"
      }
    },
    {
      "cell_type": "markdown",
      "source": [
        "6. Escribir un programa que imprima los números impares desde el 1 hasta el 100."
      ],
      "metadata": {
        "id": "feSy-2hsRndb"
      }
    },
    {
      "cell_type": "markdown",
      "source": [
        "7. Escribe un programa que pida al usuario un número $n$ y se realice la sumatoria de $1$ hasta $n$.\n",
        "\n",
        "$$sumatoria = \\sum_{i=1}^{n} x_i $$"
      ],
      "metadata": {
        "id": "UwE4b9sqPWeu"
      }
    },
    {
      "cell_type": "markdown",
      "source": [
        "8. Escribe un programa que pida al usuario un número $n$ y se realice la sumatoria de los cuadrados de $1$ hasta $n$.\n",
        "\n",
        "$$scuadrados = \\sum_{i=1}^{n} x_i^2 $$"
      ],
      "metadata": {
        "id": "ltI5Xv5dQvkS"
      }
    },
    {
      "cell_type": "markdown",
      "source": [
        "9. Realizar un programa que imprima la lista de los últimos 100 años indicando cuales son bisiestos."
      ],
      "metadata": {
        "id": "-d8ZQXbfPWbG"
      }
    },
    {
      "cell_type": "markdown",
      "source": [
        "10. Escribir un programa que pida al usuario un número entero y muestre por pantalla si es un número primo o no. Es importante validar que se trate de un número entero."
      ],
      "metadata": {
        "id": "ygGW_RWhPWLb"
      }
    }
  ]
}