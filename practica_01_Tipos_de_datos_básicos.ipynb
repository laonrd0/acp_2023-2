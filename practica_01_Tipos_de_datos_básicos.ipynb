{
  "nbformat": 4,
  "nbformat_minor": 0,
  "metadata": {
    "colab": {
      "provenance": [],
      "toc_visible": true,
      "authorship_tag": "ABX9TyPSKR9TyQvFrGqPeR47L/D9",
      "include_colab_link": true
    },
    "kernelspec": {
      "name": "python3",
      "display_name": "Python 3"
    },
    "language_info": {
      "name": "python"
    }
  },
  "cells": [
    {
      "cell_type": "markdown",
      "metadata": {
        "id": "view-in-github",
        "colab_type": "text"
      },
      "source": [
        "<a href=\"https://colab.research.google.com/github/laonrd0/acp_2023-2/blob/main/practica_01_Tipos_de_datos_b%C3%A1sicos.ipynb\" target=\"_parent\"><img src=\"https://colab.research.google.com/assets/colab-badge.svg\" alt=\"Open In Colab\"/></a>"
      ]
    },
    {
      "cell_type": "markdown",
      "source": [
        "1. Escribe un programa que solicite al usuario que ingrese su nombre. El nombre se debe almacenar en una variable llamada nombre. A continuación se debe mostrar en pantalla el texto “Bienvenido a la clase de programación, [usuario]”, Recuerda que en el texto de salida se reemplazará [usuario] por el nombre que se haya ingresado."
      ],
      "metadata": {
        "id": "W0tFk-zOeKbf"
      }
    },
    {
      "cell_type": "code",
      "source": [],
      "metadata": {
        "id": "dp7x234SeNN_"
      },
      "execution_count": null,
      "outputs": []
    },
    {
      "cell_type": "markdown",
      "source": [
        "2. Escribe un programa que solicite al usuario una temperatura en escala Fahrenheit (debe permitir decimales) y le muestre el equivalente en grados Celsius. La fórmula de conversión que se usa para este cálculo es: _Celsius = (5/9) * (Fahrenheit-32)_"
      ],
      "metadata": {
        "id": "cUp5qeNCazsz"
      }
    },
    {
      "cell_type": "code",
      "source": [],
      "metadata": {
        "id": "67zV2-_kbQmY"
      },
      "execution_count": null,
      "outputs": []
    },
    {
      "cell_type": "markdown",
      "source": [
        "3. Tomando como referencia el ejercio anterior, realiza un programa que convierta de grados Celcius a Farenheit"
      ],
      "metadata": {
        "id": "a05RGZTpbFE4"
      }
    },
    {
      "cell_type": "code",
      "source": [],
      "metadata": {
        "id": "cXSHV4T_bRIP"
      },
      "execution_count": null,
      "outputs": []
    },
    {
      "cell_type": "markdown",
      "source": [
        "\n",
        "4. Escribe un programa que solicite al usuario una cantidad y le reste el 15%, almacenando todo en una única variable. A continuación, mostrar el resultado final en pantalla.\n",
        "\n"
      ],
      "metadata": {
        "id": "UobucML6bP1I"
      }
    },
    {
      "cell_type": "code",
      "source": [],
      "metadata": {
        "id": "GhGvtE7VcBqY"
      },
      "execution_count": null,
      "outputs": []
    },
    {
      "cell_type": "markdown",
      "source": [
        "5. Escribir un programa que lea un entero positivo, _n_, proporcionado por el usuario y después muestre en pantalla la suma de todos los enteros desde 1 hasta _n_. La suma de los primeros enteros positivos puede ser calculada de la siguiente forma:\n",
        "\n",
        "  $suma = \\frac{n(n+1))}{2}$\n",
        "\n",
        "\n"
      ],
      "metadata": {
        "id": "Gwt_al2JcCJo"
      }
    },
    {
      "cell_type": "code",
      "source": [],
      "metadata": {
        "id": "nCJ69NmodYJf"
      },
      "execution_count": null,
      "outputs": []
    },
    {
      "cell_type": "markdown",
      "source": [
        "6. Una panadería vende barras de pan a $4.49 cada una. El pan que no es el día tiene un descuento del 40%. Escribir un programa que comience leyendo el número de barras vendidas que no son del día. Después el programa debe mostrar el precio habitual de una barra de pan, el descuento que se le hace por no ser fresca y el coste final total."
      ],
      "metadata": {
        "id": "Jki-MazidYkX"
      }
    },
    {
      "cell_type": "code",
      "source": [],
      "metadata": {
        "id": "83u8Pki2d0We"
      },
      "execution_count": null,
      "outputs": []
    },
    {
      "cell_type": "markdown",
      "source": [],
      "metadata": {
        "id": "xaIEwYEad0xv"
      }
    }
  ]
}