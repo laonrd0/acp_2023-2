{
  "nbformat": 4,
  "nbformat_minor": 0,
  "metadata": {
    "colab": {
      "provenance": [],
      "authorship_tag": "ABX9TyNJdDhfRvQLGbYg6e7yBDUU",
      "include_colab_link": true
    },
    "kernelspec": {
      "name": "python3",
      "display_name": "Python 3"
    },
    "language_info": {
      "name": "python"
    }
  },
  "cells": [
    {
      "cell_type": "markdown",
      "metadata": {
        "id": "view-in-github",
        "colab_type": "text"
      },
      "source": [
        "<a href=\"https://colab.research.google.com/github/laonrd0/acp_2023-2/blob/main/Practica04_ejerciccios_de_repaso.ipynb\" target=\"_parent\"><img src=\"https://colab.research.google.com/assets/colab-badge.svg\" alt=\"Open In Colab\"/></a>"
      ]
    },
    {
      "cell_type": "markdown",
      "source": [
        "1. Observa las siguientes secuencias de números y utilizando la función range() genera las siguientes listas:\n",
        "\n",
        "  _Recuerda que existe la función `list()` en python para generar un valor de tipo de dato lista con el resultado de la funcón `range()`, esta funciona de manera similar a `int()` o `float()`._\n",
        "\n",
        "* [0, 1, 2]\n",
        "* [2000, 2001, 2002, 2003, 2004, 2005, 2006]\n",
        "* [5400, 5300, 5200, 5100]\n",
        "* [0, 1, 2, 3, 4, 5, 6, 7, 8, 9]\n",
        "* [4, 5, 6, 7, 8, 9, 10]\n",
        "* [-6, -5, -4, -3, -2, -1]\n",
        "* [-56, -55, -54, -53, -52, -51, -50]\n",
        "* [1, 3, 5, 7, 9, 11, 13, 15, 17]\n",
        "* [-6, -4, -2, 0, 2, 4, 6, 8, 10]\n",
        "* [100, 200, 300, 400, 500, 600, 700, 800, 900, 1000]\n",
        "* [10, 9, 8, 7, 6, 5, 4]\n",
        "* [-50, -51, -52, -53, -54, -55, -56]\n",
        "* [17, 15, 13, 11, 9, 7, 5, 3, 1]\n",
        "* [500, 400, 300, 200, 100, 0]\n"
      ],
      "metadata": {
        "id": "E-yE4oq9Zyq_"
      }
    },
    {
      "cell_type": "code",
      "execution_count": 2,
      "metadata": {
        "colab": {
          "base_uri": "https://localhost:8080/"
        },
        "id": "6Ya9Lo0yZqis",
        "outputId": "b2de0395-d68d-4170-8875-3a456a26da94"
      },
      "outputs": [
        {
          "output_type": "execute_result",
          "data": {
            "text/plain": [
              "[1, 2, 3]"
            ]
          },
          "metadata": {},
          "execution_count": 2
        }
      ],
      "source": []
    },
    {
      "cell_type": "markdown",
      "source": [
        "2. Escribe un programa que pida un número entero mayor que cero y devuelva una lista con los divisores de ese número.\n",
        "\n",
        "```\n",
        "EJEMPLO:\n",
        "Escriba un número mayor que cero: -5\n",
        "¡Se pidió un entero mayor que cero!\n",
        "\n",
        "Escriba un número entero mayor que cero: 200\n",
        "Los divisores de 200 son 1 2 4 5 8 10 20 25 40 50 100 200\n",
        "Fin del programa\n",
        "```\n",
        "\n",
        "**Notas:**\n",
        "* Un número es divisible por otro cuando el resto de su división es cero.\n",
        "* Se puede hacer un programa más rápido, teniendo en cuenta que los divisores son siempre menores (o iguales) que la mitad del número. _(Es decir, no hace falta probar todos los números entre 1 y el propio número, sino únicamente hasta la mitad. Si se hace así, no hay que olvidarse de añadir el propio número a la lista de divisores)_.\n"
      ],
      "metadata": {
        "id": "91df_r7_bws-"
      }
    },
    {
      "cell_type": "code",
      "source": [],
      "metadata": {
        "id": "bHdG0tFLc5z1"
      },
      "execution_count": null,
      "outputs": []
    },
    {
      "cell_type": "markdown",
      "source": [
        "3. Escribe un programa que primero pregunte cuantos números se van a introducir, luego, pida esa cantidad de números uno a uno, y muestre un mensaje cada vez que un número no sea mayor que el primer número que se ingresó.\n",
        "\n",
        "```\n",
        "EJEMPLO:\n",
        "¿Cuántos valores va a introducir? -1\n",
        "¡No es posible!\n",
        "\n",
        "¿Cuántos valores va a introducir? 4\n",
        "ingrese un número: 6\n",
        "ingrese otro número: 10\n",
        "ingrese otro número: 3\n",
        "¡3 no es mayor que 6!\n",
        "ingrese otro número: 9\n",
        "Fin del programa\n",
        "```"
      ],
      "metadata": {
        "id": "kmqRcMJgc6Km"
      }
    },
    {
      "cell_type": "code",
      "source": [],
      "metadata": {
        "id": "V8u4c0QYd7ht"
      },
      "execution_count": null,
      "outputs": []
    },
    {
      "cell_type": "markdown",
      "source": [
        "4.  Escribe un programa que primero pregunte cuantos números se van a introducir, luego pida esos números uno a uno. Una vez que se introdujeron todos que informe cuántos negativos ha introducido.\n",
        "\n",
        "```\n",
        "EJEMPLO:\n",
        "¿Cuántos valores va a introducir? -1\n",
        "¡Imposible!\n",
        "\n",
        "¿Cuántos valores va a introducir? 2\n",
        "Escriba el número 1: 56\n",
        "Escriba el número 2: -22\n",
        "Ha escrito 1 número negativo\n",
        "```"
      ],
      "metadata": {
        "id": "eCF55NvBd63e"
      }
    },
    {
      "cell_type": "code",
      "source": [],
      "metadata": {
        "id": "R9gUAfACeFhS"
      },
      "execution_count": null,
      "outputs": []
    },
    {
      "cell_type": "markdown",
      "source": [
        "5. Vamos a emular el funcionamiento de un cajero de supermercado. Escribir un programa que imprima un mensaje de bienvenida al Supermercado, informando que para iniciar el cobro de productos deberá presionar la tecla \"C\" o \"c\". Cuando inicie el cobro de productos, se ingresaran uno a uno los precios de los productos. Cuando yo no se desee ingresar mas productos se presionara la tecla \"T\",\"t\". Con esto finalizará la cuenta del cliente informandole cuantos productos lleva y el total a pagar.\n",
        "\n",
        "```\n",
        "EJEMPLO:\n",
        "Bienvenidos al Supermercado Python\n",
        "Para comenzar presione C/c: c\n",
        "  ingresa el precio del producto: 10.50\n",
        "  ingresa el precio del producto: 23.50\n",
        "  ingresa el precio del producto: 16.50\n",
        "  ingresa el precio del producto: T\n",
        "  Usted lleva 3 productos\n",
        "  El total a pagar son $ 50.50\n",
        "  Gracias por su compra\n",
        "```"
      ],
      "metadata": {
        "id": "mEHkyBlnfDul"
      }
    }
  ]
}