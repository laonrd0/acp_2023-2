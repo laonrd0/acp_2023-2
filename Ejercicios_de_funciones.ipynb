{
  "nbformat": 4,
  "nbformat_minor": 0,
  "metadata": {
    "colab": {
      "provenance": [],
      "authorship_tag": "ABX9TyP+krgr6kRR+fN0rrL9Nd4E",
      "include_colab_link": true
    },
    "kernelspec": {
      "name": "python3",
      "display_name": "Python 3"
    },
    "language_info": {
      "name": "python"
    }
  },
  "cells": [
    {
      "cell_type": "markdown",
      "metadata": {
        "id": "view-in-github",
        "colab_type": "text"
      },
      "source": [
        "<a href=\"https://colab.research.google.com/github/laonrd0/acp_2023-2/blob/main/Ejercicios_de_funciones.ipynb\" target=\"_parent\"><img src=\"https://colab.research.google.com/assets/colab-badge.svg\" alt=\"Open In Colab\"/></a>"
      ]
    },
    {
      "cell_type": "markdown",
      "source": [
        "1. Realiza una función que reciba un número entero positivo y determine si es un número feliz, es un número feliz. \n",
        "\n",
        "Un número feliz es un número entero positivo, el cúal sumando el cuadrado de sus digitos, da como resultado 1. \n",
        "\n",
        "Por ejemplo:\n",
        "\n",
        "```\n",
        "19: 1**2 + 9**2 = 82 \n",
        "82: 8**2 + 2**2 = 68 \n",
        "68: 6**2 + 8**2 = 100 \n",
        "100: 1**2 + 0**2 + 0**2 = 1 ----> Es un número feliz.\n",
        "```"
      ],
      "metadata": {
        "id": "0ZfzKChcQ287"
      }
    },
    {
      "cell_type": "markdown",
      "source": [
        "2. Relizar una función que implemente un algoritmo de criptografía por desplazamiento *(Usar listas e índices)*. La función recibe com parametros un texto y el valor de desplazamiento y regresar la codificación correspondiente."
      ],
      "metadata": {
        "id": "9lTfjHdVQWVD"
      }
    },
    {
      "cell_type": "markdown",
      "source": [
        "3. Realiza las siguientes funciones para conversión de unidades de medida:\n",
        "\n",
        "  * Función para converdtir °C a °F\n",
        "  * Función para convertir °F a °C\n",
        "  * Función para convertir cm a pulgadas.\n",
        "  * Función para convertir pulgadas a cm.\n",
        "  * Funcion para convertir de cm a pies.\n",
        "  * Función para convertir pies a cm.\n",
        "  * Función para convertir pies a pulgadas.\n",
        "  * Función para convertir pulgadas a pies."
      ],
      "metadata": {
        "id": "QyeYug65S8k5"
      }
    },
    {
      "cell_type": "markdown",
      "source": [
        "4. Implementa las siguientes aproximaciones como funciones:\n",
        "  *  Aproximación de seno: $sen(x) \\approx \\sum^{n}_{k=0}\\frac{(-1)^k}{(2k+1)!}x^{2k+1}$\n",
        "  *   Aproximación de coseno: $cos(x) \\approx \\sum^{n}_{k=0}\\frac{(-1)^k}{(2k)!}x^{2k}$\n",
        "  *  aproximación del número $e^x \\approx \\sum^n_{k=0}\\frac{x^k}{k!}$\n",
        "\n",
        "  * Aproximación de *pi* por el método de Variante de Euler  \n",
        "    $\\pi=1 + \\frac{1}{2}+\\frac{1}{3}+\\frac{1}{4}+\\frac{1}{5}...$\n",
        "  * Aproximación de *pi* por medio de la Serie de Nilakantha      \n",
        "    $\\pi = 3 +\\frac{4}{2.3.4}-\\frac{4}{4.5.6}+\\frac{4}{6.7.8}-\\frac{4}{8.9.10}+...$     \n",
        "  \n",
        "  * Aproximación de *pi* por el Método de Gregory-Leibiniz y Beeler\n",
        "  \n",
        "    $\\pi=4(1-\\frac{1}{3}+\\frac{1}{5}-\\frac{1}{7}+\\frac{1}{9}-...)$  "
      ],
      "metadata": {
        "id": "Q-26gMuLR_Bi"
      }
    }
  ]
}