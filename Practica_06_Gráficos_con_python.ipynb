{
  "nbformat": 4,
  "nbformat_minor": 0,
  "metadata": {
    "colab": {
      "provenance": [],
      "authorship_tag": "ABX9TyNInE1+DpDiPaGYapQw5OG7",
      "include_colab_link": true
    },
    "kernelspec": {
      "name": "python3",
      "display_name": "Python 3"
    },
    "language_info": {
      "name": "python"
    }
  },
  "cells": [
    {
      "cell_type": "markdown",
      "metadata": {
        "id": "view-in-github",
        "colab_type": "text"
      },
      "source": [
        "<a href=\"https://colab.research.google.com/github/laonrd0/acp_2023-2/blob/main/Practica_06_Gr%C3%A1ficos_con_python.ipynb\" target=\"_parent\"><img src=\"https://colab.research.google.com/assets/colab-badge.svg\" alt=\"Open In Colab\"/></a>"
      ]
    },
    {
      "cell_type": "markdown",
      "source": [
        "\n",
        "### 1. Gráficar las temperaturas promedio mensuales y ubicar las temperqaturas máxima y mínima\n",
        "\n",
        "Con los datos de la variable temp, obtener un grafico con las tamperaturas y ubicar la temperatura máxima y la mínima con puntos de diferente color.\n",
        "\n",
        "```\n",
        "temp = [12.2, 13.5, 13.6, 11.9, 12.5, 13.2, 13.8, 12.8, 12.9, 12.2, 13.7, 13.6, 14.1]\n",
        "```\n",
        "\n",
        "\n",
        "\n"
      ],
      "metadata": {
        "id": "fNNET_Mip2J-"
      }
    },
    {
      "cell_type": "markdown",
      "source": [
        "### 2. Se tiene el registro de temperaturas de tres años:\n",
        "\n",
        "\n",
        "| AÑO/MES | ENE  | FEB  | MAR  | ABR  | MAY  | JUN  | JUL  | AGO  | SEP  | OCT  | NOV  | DIC  |\n",
        "| ------- | ---- | ---- | ---- | ---- | ---- | ---- | ---- | ---- | ---- | ---- | ---- | ---- |\n",
        "| 2000    | -0.4 | 2.9 | 8.4 | 10.6 | 17.5 | 21.8 | 22.4 | 22.6 | 18.9| 13.9 | 7.4 | -0.5 | \n",
        "| 2006    |4.9 | 2.1 | 6.2 | 13.2 | 17.3 | 21.7 | 25.5 | 24.3 | 19.2 | 13.4 | 11.1 | 6.4 |\n",
        "| 2012   | 2.9 | 4.9 | 10.5 | 12.7 |  18.4 | 21.7 | 26.0 | 24.8 | 20.4 | 14.4 | 6.6 | 5.3 |\n",
        "\n",
        "Realizar lo siguiente:\n",
        "\n",
        "* Generar una gráfica comparativa de la fluctuación de temperaturas de los 3 años. Colocar leyendas a cada gráfica para identificar a que año corresponden.\n",
        "* Generar una gráfica para cada uno de los años, marcando las temperaturas máximas y mínimas con puntos de distinto color.\n",
        "* Generar una grafica con subplots, en cada subplot colocar la grafica de temperaturas de cada año."
      ],
      "metadata": {
        "id": "edlx82ErpdSQ"
      }
    },
    {
      "cell_type": "markdown",
      "source": [
        "### 3. Graficar la trayectoria de un proyectil\n",
        "\n",
        "![alt text](https://1millionmonkeystyping.files.wordpress.com/2013/11/projectile-motion1.jpg)\n",
        "\n",
        "\n",
        "Cuando se realiza un lanzamiento de un proyectil, debemos considerar una velocidad inicial $u$ en $m/s^2$ y una dirección del proyectil que crea un ángulo $\\theta$ en radianes con respecto del suelo.\n",
        "\n",
        "Para seguir la trayectoria del proyectil en un plano, se debe calcular la posición horizontal $S_x$ y la posición vertical $S_y$  en un momento de tiempo determinado del recorrido. Para lo anterior utilizar las siguientes fórmulas:\n",
        "\n",
        "$S_x = u(cos\\theta)t$ \n",
        "\n",
        "$S_y = u(sen\\theta)t-\\frac{1}{2}gt^2$\n",
        "\n",
        "<br>\n",
        "\n",
        "* $g = 9.8m/s^2$\n",
        "\n",
        "* Cada instante de tiempo se toma entre el momento inicial $0$  y el tiempo final de la trayectoria de vuelo que se calcula mediante  $t_f=2\\frac{u.sen\\theta}{g}$\n",
        "\n",
        "<br>\n",
        "**Realizar lo siguiente:**\n",
        "\n",
        "  a) Calcular la trayectoria de un proyectil con una velocidad inicial $u=5m/s$ y un ángulo de disparo de $\\theta=45°$\n",
        "\n",
        "  b) Prueba con 3 distintos valores de velocidad inicial y mismo ángulo de disparo y has una gráfica comparativa.\n",
        "\n",
        "  c) Prueba con 3 distintos ángulos de disparo y misma velocidad inicial y genera una grafica comparativa.\n",
        "\n",
        "  d) Realiza una gráfica comparativa con 3 diferentes disparos _(distinto ángulo y velocidad inicial)_"
      ],
      "metadata": {
        "id": "EUNGJ43co5VH"
      }
    },
    {
      "cell_type": "code",
      "execution_count": null,
      "metadata": {
        "id": "tRqkkInZoTLZ"
      },
      "outputs": [],
      "source": []
    }
  ]
}