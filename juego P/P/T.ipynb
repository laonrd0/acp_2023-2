{
  "nbformat": 4,
  "nbformat_minor": 0,
  "metadata": {
    "colab": {
      "provenance": [],
      "authorship_tag": "ABX9TyMAc2r+9l6Uc0sTY5Wvso6s",
      "include_colab_link": true
    },
    "kernelspec": {
      "name": "python3",
      "display_name": "Python 3"
    },
    "language_info": {
      "name": "python"
    }
  },
  "cells": [
    {
      "cell_type": "markdown",
      "metadata": {
        "id": "view-in-github",
        "colab_type": "text"
      },
      "source": [
        "<a href=\"https://colab.research.google.com/github/laonrd0/acp_2023-2/blob/main/juego%20P/P/T.ipynb\" target=\"_parent\"><img src=\"https://colab.research.google.com/assets/colab-badge.svg\" alt=\"Open In Colab\"/></a>"
      ]
    },
    {
      "cell_type": "code",
      "source": [
        "from random import shuffle, choices\n",
        "\n",
        "#0. Mensaje de bienvenida / inicio del programa\n",
        "print('Progama que emula el juego de Piedra, Papel o Tijera\\n')\n",
        "\n",
        "#1. Definir una lista de opciones\n",
        "opciones = ['piedra', 'papel', 'tijera']\n",
        "\n",
        "\n",
        "while True:\n",
        "  #2. Pedir al usuario que elija [R, P, T]\n",
        "  usuario = input(f'Elige una opcion {opciones}: ')\n",
        "\n",
        "  #3. Realizar aleatoriamente su elección\n",
        "  #shuffle(opciones)\n",
        "  computadora = choices(opciones)\n",
        "  computadora = computadora[0]\n",
        "  print(f'La computadora ha elegido: {computadora}')\n",
        "\n",
        "  #4. Verificacion (opcion_usuario vs opcion_pc)\n",
        "  if (usuario != computadora) and (usuario in opciones):\n",
        "    break\n",
        "  else:\n",
        "    if usuario not in opciones:\n",
        "      print(\"No es una opción válida!!\")\n",
        "    if usuario == computadora:\n",
        "      print(\"Valores iguales, intenta nuevamente.\")\n",
        "\n",
        "#6. Definimos mediante una estructura de ifs quien es el ganador.\n",
        "}ganador = False\n",
        "if usuario == 'piedra' and computadora == 'papel':\n",
        "  ganador = False\n",
        "elif usuario == 'piedra' and computadora == 'tijera':\n",
        "  ganador = True\n",
        "elif usuario=='papel' and computadora == 'piedra':\n",
        "  ganador = True\n",
        "elif usuario == 'papel' and computadora == 'tijera':\n",
        "  ganador = False\n",
        "elif usuario == 'tijera' and computadora == 'piedra':\n",
        "  ganador = False\n",
        "elif usuario == 'tijera' and computadora == 'papel':\n",
        "  ganador = True\n",
        "\n",
        "#7. Mostramos el resultado\n",
        "if ganador:\n",
        "  print(\"Ganaste!!\")\n",
        "else:\n",
        "  print('Pierdes!!')\n"
      ],
      "metadata": {
        "colab": {
          "base_uri": "https://localhost:8080/"
        },
        "id": "xL-VqrqDt3ej",
        "outputId": "167024f4-59b3-46cb-bd92-e7ac95b7db6d"
      },
      "execution_count": null,
      "outputs": [
        {
          "output_type": "stream",
          "name": "stdout",
          "text": [
            "Progama que emula el juego de Piedra, Papel o Tijera\n",
            "\n",
            "Elige una opcion ['piedra', 'papel', 'tijera']: gato\n",
            "La computadora ha elegido: tijera\n"
          ]
        }
      ]
    }
  ]
}